{
  "nbformat": 4,
  "nbformat_minor": 0,
  "metadata": {
    "colab": {
      "provenance": []
    },
    "kernelspec": {
      "name": "python3",
      "display_name": "Python 3"
    },
    "language_info": {
      "name": "python"
    }
  },
  "cells": [
    {
      "cell_type": "markdown",
      "source": [
        "**Develop a hand gesture recognition model that can accurately identify and classify different hand gestures from image or video data, enabling intuitive human-computer interaction and gesture-based control systems.**"
      ],
      "metadata": {
        "id": "mDKM7oFdvOLj"
      }
    },
    {
      "cell_type": "code",
      "source": [
        "import os\n",
        "import cv2\n",
        "\n",
        "dataset_dir = '/content/drive/MyDrive/09'\n",
        "\n",
        "def load_dataset(dataset_dir):\n",
        "    images = []\n",
        "    labels = []\n",
        "    for label in os.listdir(dataset_dir):\n",
        "        label_dir = os.path.join(dataset_dir, label)\n",
        "        for image_file in os.listdir(label_dir):\n",
        "            image_path = os.path.join(label_dir, image_file)\n",
        "            image = cv2.imread(image_path)\n",
        "            images.append(image)\n",
        "            labels.append(label)\n",
        "    return images, labels\n",
        "\n",
        "images, labels = load_dataset(dataset_dir)"
      ],
      "metadata": {
        "id": "Y4F4e1hUvUqt"
      },
      "execution_count": 4,
      "outputs": []
    },
    {
      "cell_type": "code",
      "source": [
        "import numpy as np\n",
        "from sklearn.preprocessing import LabelEncoder\n",
        "from sklearn.model_selection import train_test_split\n",
        "\n",
        "def preprocess_data(images, labels):\n",
        "    images = np.array(images)\n",
        "    labels = np.array(labels)\n",
        "    # Convert labels to numerical values\n",
        "    label_encoder = LabelEncoder()\n",
        "    labels = label_encoder.fit_transform(labels)\n",
        "    # Normalize images\n",
        "    images = images / 255.0\n",
        "    # Split dataset into train and test sets\n",
        "    X_train, X_test, y_train, y_test = train_test_split(images, labels, test_size=0.3, random_state=0)\n",
        "    return X_train, X_test, y_train, y_test\n",
        "\n",
        "X_train, X_test, y_train, y_test = preprocess_data(images, labels)"
      ],
      "metadata": {
        "id": "LQZt16EjveTc"
      },
      "execution_count": 5,
      "outputs": []
    },
    {
      "cell_type": "code",
      "source": [
        "# Example code for model training\n",
        "# Assuming you have preprocessed train and test sets\n",
        "\n",
        "from tensorflow.keras.models import Sequential\n",
        "from tensorflow.keras.layers import Conv2D, MaxPooling2D, Flatten, Dense\n",
        "\n",
        "image_height, image_width = X_train.shape[1], X_train.shape[2]  # Assuming images are already preprocessed\n",
        "num_classes = len(np.unique(y_train))  # Number of unique classes in the dataset\n",
        "\n",
        "model = Sequential([\n",
        "    Conv2D(32, (3, 3), activation='relu', input_shape=(image_height, image_width, 3)),\n",
        "    MaxPooling2D((2, 2)),\n",
        "    Conv2D(64, (3, 3), activation='relu'),\n",
        "    MaxPooling2D((2, 2)),\n",
        "    Flatten(),\n",
        "    Dense(64, activation='relu'),\n",
        "    Dense(num_classes, activation='softmax')\n",
        "])\n",
        "\n",
        "model.compile(optimizer='adam',\n",
        "              loss='sparse_categorical_crossentropy',\n",
        "              metrics=['accuracy'])\n",
        "\n",
        "model.fit(X_train, y_train, epochs=10, batch_size=32, validation_data=(X_test, y_test))\n"
      ],
      "metadata": {
        "id": "nybUFnA4viBf",
        "colab": {
          "base_uri": "https://localhost:8080/"
        },
        "outputId": "77d92705-f723-4760-c7d3-5df82305a191"
      },
      "execution_count": 6,
      "outputs": [
        {
          "output_type": "stream",
          "name": "stdout",
          "text": [
            "Epoch 1/10\n",
            "5/5 [==============================] - 53s 9s/step - loss: 0.0000e+00 - accuracy: 0.0000e+00 - val_loss: 0.0000e+00 - val_accuracy: 0.0000e+00\n",
            "Epoch 2/10\n",
            "5/5 [==============================] - 39s 7s/step - loss: 0.0000e+00 - accuracy: 0.0000e+00 - val_loss: 0.0000e+00 - val_accuracy: 0.0000e+00\n",
            "Epoch 3/10\n",
            "5/5 [==============================] - 38s 8s/step - loss: 0.0000e+00 - accuracy: 0.0000e+00 - val_loss: 0.0000e+00 - val_accuracy: 0.0000e+00\n",
            "Epoch 4/10\n",
            "5/5 [==============================] - 46s 9s/step - loss: 0.0000e+00 - accuracy: 0.0000e+00 - val_loss: 0.0000e+00 - val_accuracy: 0.0000e+00\n",
            "Epoch 5/10\n",
            "5/5 [==============================] - 38s 8s/step - loss: 0.0000e+00 - accuracy: 0.0000e+00 - val_loss: 0.0000e+00 - val_accuracy: 0.0000e+00\n",
            "Epoch 6/10\n",
            "5/5 [==============================] - 39s 8s/step - loss: 0.0000e+00 - accuracy: 0.0000e+00 - val_loss: 0.0000e+00 - val_accuracy: 0.0000e+00\n",
            "Epoch 7/10\n",
            "5/5 [==============================] - 38s 8s/step - loss: 0.0000e+00 - accuracy: 0.0000e+00 - val_loss: 0.0000e+00 - val_accuracy: 0.0000e+00\n",
            "Epoch 8/10\n",
            "5/5 [==============================] - 39s 7s/step - loss: 0.0000e+00 - accuracy: 0.0000e+00 - val_loss: 0.0000e+00 - val_accuracy: 0.0000e+00\n",
            "Epoch 9/10\n",
            "5/5 [==============================] - 38s 8s/step - loss: 0.0000e+00 - accuracy: 0.0000e+00 - val_loss: 0.0000e+00 - val_accuracy: 0.0000e+00\n",
            "Epoch 10/10\n",
            "5/5 [==============================] - 41s 8s/step - loss: 0.0000e+00 - accuracy: 0.0000e+00 - val_loss: 0.0000e+00 - val_accuracy: 0.0000e+00\n"
          ]
        },
        {
          "output_type": "execute_result",
          "data": {
            "text/plain": [
              "<keras.src.callbacks.History at 0x788090771f30>"
            ]
          },
          "metadata": {},
          "execution_count": 6
        }
      ]
    },
    {
      "cell_type": "code",
      "source": [
        "# Example code for model evaluation\n",
        "# Assuming you have a trained model and test set\n",
        "\n",
        "loss, accuracy = model.evaluate(X_test, y_test)\n",
        "print(f'Test Loss: {loss}')\n",
        "print(f'Test Accuracy: {accuracy}')\n"
      ],
      "metadata": {
        "id": "EGuWhKH2vk_D",
        "colab": {
          "base_uri": "https://localhost:8080/"
        },
        "outputId": "ec5956af-27e2-43c3-bbab-ecec91b6f023"
      },
      "execution_count": 7,
      "outputs": [
        {
          "output_type": "stream",
          "name": "stdout",
          "text": [
            "2/2 [==============================] - 4s 2s/step - loss: 0.0000e+00 - accuracy: 0.0000e+00\n",
            "Test Loss: 0.0\n",
            "Test Accuracy: 0.0\n"
          ]
        }
      ]
    }
  ]
}